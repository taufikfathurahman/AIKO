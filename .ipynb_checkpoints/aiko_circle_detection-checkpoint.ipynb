{
 "cells": [
  {
   "cell_type": "code",
   "execution_count": 1,
   "metadata": {},
   "outputs": [],
   "source": [
    "import os\n",
    "import pandas as pd\n",
    "import cv2\n",
    "import numpy as np \n",
    "import matplotlib.pyplot as plt\n",
    "%matplotlib inline"
   ]
  },
  {
   "cell_type": "markdown",
   "metadata": {},
   "source": [
    "## Read image & Convert Image to Gray-Scale"
   ]
  },
  {
   "cell_type": "code",
   "execution_count": 2,
   "metadata": {},
   "outputs": [],
   "source": [
    "def readandconv_image(image_name):\n",
    "    img = cv2.imread('Asset/'+image_name, 1)\n",
    "    img_orig = img.copy()\n",
    "    img = cv2.cvtColor(img, cv2.COLOR_BGR2GRAY)\n",
    "    \n",
    "    return img, img_orig"
   ]
  },
  {
   "cell_type": "markdown",
   "metadata": {},
   "source": [
    "## Sharpening Image"
   ]
  },
  {
   "cell_type": "code",
   "execution_count": 3,
   "metadata": {},
   "outputs": [],
   "source": [
    "def image_sharpening(my_img):\n",
    "    kernel_sharpening = np.array([[-1,-1,-1], \n",
    "                                  [-1, 9,-1],\n",
    "                                  [-1,-1,-1]])\n",
    "    return cv2.filter2D(my_img, -1, kernel_sharpening)"
   ]
  },
  {
   "cell_type": "markdown",
   "metadata": {},
   "source": [
    "## Blur Image to Reduce Noise"
   ]
  },
  {
   "cell_type": "code",
   "execution_count": 4,
   "metadata": {},
   "outputs": [],
   "source": [
    "def median_blur(my_img):\n",
    "    for _ in range(5):\n",
    "        my_img = cv2.medianBlur(my_img, 21)\n",
    "    \n",
    "    return my_img"
   ]
  },
  {
   "cell_type": "code",
   "execution_count": 5,
   "metadata": {},
   "outputs": [],
   "source": [
    "def gaussian_blur(my_img):\n",
    "    for _ in range(5):\n",
    "        my_img = cv2.GaussianBlur(my_img, (21, 21), cv2.BORDER_DEFAULT)\n",
    "    \n",
    "    return my_img"
   ]
  },
  {
   "cell_type": "markdown",
   "metadata": {},
   "source": [
    "## Image Thresholding\n",
    "\n",
    "#### 1. Image Thresholding (Otsu's Binarization)"
   ]
  },
  {
   "cell_type": "code",
   "execution_count": 6,
   "metadata": {},
   "outputs": [],
   "source": [
    "def otsu_thresholding(my_img):\n",
    "    ret, th = cv2.threshold(my_img, 0, 255, cv2.THRESH_BINARY + cv2.THRESH_OTSU)\n",
    "    \n",
    "    return th"
   ]
  },
  {
   "cell_type": "markdown",
   "metadata": {},
   "source": [
    "#### 2. Image Thresholding (Adaptive Thresholding)"
   ]
  },
  {
   "cell_type": "code",
   "execution_count": 7,
   "metadata": {},
   "outputs": [],
   "source": [
    "def adaptive_thresholding(my_img):\n",
    "    th = cv2.adaptiveThreshold(my_img, 255, cv2.ADAPTIVE_THRESH_MEAN_C,\\\n",
    "                               cv2.THRESH_BINARY, 31, 20)\n",
    "    return th"
   ]
  },
  {
   "cell_type": "markdown",
   "metadata": {},
   "source": [
    "## Hough Circle Transform"
   ]
  },
  {
   "cell_type": "code",
   "execution_count": 8,
   "metadata": {},
   "outputs": [],
   "source": [
    "def hough_transform(my_img):\n",
    "    all_circle = cv2.HoughCircles(my_img, cv2.HOUGH_GRADIENT, 1, 100, \n",
    "                              param1=50,param2=30, \n",
    "                              minRadius=10, maxRadius=150)\n",
    "    return all_circle"
   ]
  },
  {
   "cell_type": "markdown",
   "metadata": {},
   "source": [
    "## Show Detected Circles"
   ]
  },
  {
   "cell_type": "code",
   "execution_count": 9,
   "metadata": {},
   "outputs": [],
   "source": [
    "def show_circle(my_img, all_circle):\n",
    "    all_circle_rounded = np.uint16(np.around(all_circle))\n",
    "    for i in all_circle_rounded[0,:]:\n",
    "        # draw the outer circle\n",
    "        cv2.circle(my_img,(i[0],i[1]),i[2],(0,255,0),15)\n",
    "        # draw the center of the circle\n",
    "        cv2.circle(my_img,(i[0],i[1]),2,(0,0,255),5)\n",
    "        \n",
    "    all_circle_rounded = all_circle_rounded[0].tolist()\n",
    "    detected_circle = len(all_circle_rounded)\n",
    "    \n",
    "    return my_img, detected_circle, all_circle_rounded"
   ]
  },
  {
   "cell_type": "markdown",
   "metadata": {},
   "source": [
    "##### Get Average Radius"
   ]
  },
  {
   "cell_type": "code",
   "execution_count": 10,
   "metadata": {},
   "outputs": [],
   "source": [
    "def circle_radius_avg(all_circle_rounded):\n",
    "    radius_avg = 0\n",
    "    for i in all_circle_rounded:\n",
    "        radius_avg += i[2]\n",
    "    \n",
    "    return radius_avg/len(all_circle_rounded)"
   ]
  },
  {
   "cell_type": "markdown",
   "metadata": {},
   "source": [
    "##### Get Circle Density"
   ]
  },
  {
   "cell_type": "code",
   "execution_count": 11,
   "metadata": {},
   "outputs": [],
   "source": [
    "def circle_dens1(detected_circle, radius_avg, M, N):\n",
    "    return (detected_circle * radius_avg) / (M * N)"
   ]
  },
  {
   "cell_type": "markdown",
   "metadata": {},
   "source": [
    "# Main Program"
   ]
  },
  {
   "cell_type": "code",
   "execution_count": 12,
   "metadata": {},
   "outputs": [],
   "source": [
    "def main():\n",
    "    # Directory listing\n",
    "    entries = os.listdir('Asset')\n",
    "    circles = []\n",
    "    circle_rad = []\n",
    "    circle_den = []\n",
    "\n",
    "    for my_img in entries:\n",
    "        # Read image from listed dir\n",
    "        img, img_orig = readandconv_image(my_img)\n",
    "        # Get image dimension\n",
    "        M, N = img.shape\n",
    "        # Image sharpening\n",
    "        img = image_sharpening(img)\n",
    "        # Image blurring uring using median blur\n",
    "        img = median_blur(img)\n",
    "        # Apply hough transform\n",
    "        all_circle = hough_transform(img)\n",
    "        img_orig, detected_circle, all_circle_rounded = show_circle(img_orig, all_circle)\n",
    "        \n",
    "        # save image\n",
    "        cv2.imwrite('Result/' + my_img, img_orig)\n",
    "        \n",
    "        # Save to list for cvs file\n",
    "        circles.append(detected_circle)\n",
    "\n",
    "        radius_avg = circle_radius_avg(all_circle_rounded)\n",
    "        circle_rad.append(radius_avg)\n",
    "\n",
    "        circle_den.append(circle_dens1(detected_circle, radius_avg, M, N))\n",
    "        \n",
    "    csv_dict = {\n",
    "        'Data Kayu' : entries,\n",
    "        'Detected Circle' : circles,\n",
    "        'Radius Avg' : circle_rad,\n",
    "        'Circle Density' : circle_den\n",
    "    }\n",
    "    df = pd.DataFrame(csv_dict)\n",
    "    df.to_csv('Result/Result.csv', index = False)"
   ]
  },
  {
   "cell_type": "code",
   "execution_count": 13,
   "metadata": {},
   "outputs": [],
   "source": [
    "main()"
   ]
  },
  {
   "cell_type": "code",
   "execution_count": 14,
   "metadata": {},
   "outputs": [
    {
     "data": {
      "text/html": [
       "<div>\n",
       "<style scoped>\n",
       "    .dataframe tbody tr th:only-of-type {\n",
       "        vertical-align: middle;\n",
       "    }\n",
       "\n",
       "    .dataframe tbody tr th {\n",
       "        vertical-align: top;\n",
       "    }\n",
       "\n",
       "    .dataframe thead th {\n",
       "        text-align: right;\n",
       "    }\n",
       "</style>\n",
       "<table border=\"1\" class=\"dataframe\">\n",
       "  <thead>\n",
       "    <tr style=\"text-align: right;\">\n",
       "      <th></th>\n",
       "      <th>Data Kayu</th>\n",
       "      <th>Detected Circle</th>\n",
       "      <th>Radius Avg</th>\n",
       "      <th>Circle Density</th>\n",
       "    </tr>\n",
       "  </thead>\n",
       "  <tbody>\n",
       "    <tr>\n",
       "      <th>0</th>\n",
       "      <td>12073 (1).jpg</td>\n",
       "      <td>42</td>\n",
       "      <td>64.500000</td>\n",
       "      <td>0.000296</td>\n",
       "    </tr>\n",
       "    <tr>\n",
       "      <th>1</th>\n",
       "      <td>12073 (2).jpg</td>\n",
       "      <td>51</td>\n",
       "      <td>69.607843</td>\n",
       "      <td>0.000388</td>\n",
       "    </tr>\n",
       "    <tr>\n",
       "      <th>2</th>\n",
       "      <td>12073 (3).jpg</td>\n",
       "      <td>50</td>\n",
       "      <td>63.480000</td>\n",
       "      <td>0.000347</td>\n",
       "    </tr>\n",
       "    <tr>\n",
       "      <th>3</th>\n",
       "      <td>14734 (1).jpg</td>\n",
       "      <td>148</td>\n",
       "      <td>42.162162</td>\n",
       "      <td>0.000682</td>\n",
       "    </tr>\n",
       "    <tr>\n",
       "      <th>4</th>\n",
       "      <td>14734 (2).jpg</td>\n",
       "      <td>160</td>\n",
       "      <td>43.225000</td>\n",
       "      <td>0.000756</td>\n",
       "    </tr>\n",
       "    <tr>\n",
       "      <th>5</th>\n",
       "      <td>14734 (3).jpg</td>\n",
       "      <td>151</td>\n",
       "      <td>44.072848</td>\n",
       "      <td>0.000728</td>\n",
       "    </tr>\n",
       "    <tr>\n",
       "      <th>6</th>\n",
       "      <td>19081 (1).jpg</td>\n",
       "      <td>108</td>\n",
       "      <td>64.675926</td>\n",
       "      <td>0.000764</td>\n",
       "    </tr>\n",
       "    <tr>\n",
       "      <th>7</th>\n",
       "      <td>19081 (2).jpg</td>\n",
       "      <td>98</td>\n",
       "      <td>66.163265</td>\n",
       "      <td>0.000709</td>\n",
       "    </tr>\n",
       "    <tr>\n",
       "      <th>8</th>\n",
       "      <td>19081 (3).jpg</td>\n",
       "      <td>71</td>\n",
       "      <td>60.183099</td>\n",
       "      <td>0.000467</td>\n",
       "    </tr>\n",
       "    <tr>\n",
       "      <th>9</th>\n",
       "      <td>23551 (1).jpg</td>\n",
       "      <td>51</td>\n",
       "      <td>56.725490</td>\n",
       "      <td>0.000316</td>\n",
       "    </tr>\n",
       "    <tr>\n",
       "      <th>10</th>\n",
       "      <td>23551 (2).jpg</td>\n",
       "      <td>35</td>\n",
       "      <td>62.514286</td>\n",
       "      <td>0.000239</td>\n",
       "    </tr>\n",
       "    <tr>\n",
       "      <th>11</th>\n",
       "      <td>23551 (3).jpg</td>\n",
       "      <td>37</td>\n",
       "      <td>62.918919</td>\n",
       "      <td>0.000255</td>\n",
       "    </tr>\n",
       "    <tr>\n",
       "      <th>12</th>\n",
       "      <td>3011 (1).jpg</td>\n",
       "      <td>44</td>\n",
       "      <td>62.840909</td>\n",
       "      <td>0.000302</td>\n",
       "    </tr>\n",
       "    <tr>\n",
       "      <th>13</th>\n",
       "      <td>3011 (2).jpg</td>\n",
       "      <td>48</td>\n",
       "      <td>62.270833</td>\n",
       "      <td>0.000327</td>\n",
       "    </tr>\n",
       "    <tr>\n",
       "      <th>14</th>\n",
       "      <td>3011 (3).jpg</td>\n",
       "      <td>40</td>\n",
       "      <td>63.550000</td>\n",
       "      <td>0.000278</td>\n",
       "    </tr>\n",
       "    <tr>\n",
       "      <th>15</th>\n",
       "      <td>31148 (1).jpg</td>\n",
       "      <td>122</td>\n",
       "      <td>66.155738</td>\n",
       "      <td>0.000883</td>\n",
       "    </tr>\n",
       "    <tr>\n",
       "      <th>16</th>\n",
       "      <td>31148 (2).jpg</td>\n",
       "      <td>131</td>\n",
       "      <td>65.748092</td>\n",
       "      <td>0.000942</td>\n",
       "    </tr>\n",
       "    <tr>\n",
       "      <th>17</th>\n",
       "      <td>31148 (3).jpg</td>\n",
       "      <td>121</td>\n",
       "      <td>62.909091</td>\n",
       "      <td>0.000832</td>\n",
       "    </tr>\n",
       "    <tr>\n",
       "      <th>18</th>\n",
       "      <td>E2259 (1).jpg</td>\n",
       "      <td>38</td>\n",
       "      <td>64.868421</td>\n",
       "      <td>0.000270</td>\n",
       "    </tr>\n",
       "    <tr>\n",
       "      <th>19</th>\n",
       "      <td>E2259 (2).jpg</td>\n",
       "      <td>57</td>\n",
       "      <td>69.122807</td>\n",
       "      <td>0.000431</td>\n",
       "    </tr>\n",
       "    <tr>\n",
       "      <th>20</th>\n",
       "      <td>E2259 (3).jpg</td>\n",
       "      <td>44</td>\n",
       "      <td>68.659091</td>\n",
       "      <td>0.000330</td>\n",
       "    </tr>\n",
       "  </tbody>\n",
       "</table>\n",
       "</div>"
      ],
      "text/plain": [
       "        Data Kayu  Detected Circle  Radius Avg  Circle Density\n",
       "0   12073 (1).jpg               42   64.500000        0.000296\n",
       "1   12073 (2).jpg               51   69.607843        0.000388\n",
       "2   12073 (3).jpg               50   63.480000        0.000347\n",
       "3   14734 (1).jpg              148   42.162162        0.000682\n",
       "4   14734 (2).jpg              160   43.225000        0.000756\n",
       "5   14734 (3).jpg              151   44.072848        0.000728\n",
       "6   19081 (1).jpg              108   64.675926        0.000764\n",
       "7   19081 (2).jpg               98   66.163265        0.000709\n",
       "8   19081 (3).jpg               71   60.183099        0.000467\n",
       "9   23551 (1).jpg               51   56.725490        0.000316\n",
       "10  23551 (2).jpg               35   62.514286        0.000239\n",
       "11  23551 (3).jpg               37   62.918919        0.000255\n",
       "12   3011 (1).jpg               44   62.840909        0.000302\n",
       "13   3011 (2).jpg               48   62.270833        0.000327\n",
       "14   3011 (3).jpg               40   63.550000        0.000278\n",
       "15  31148 (1).jpg              122   66.155738        0.000883\n",
       "16  31148 (2).jpg              131   65.748092        0.000942\n",
       "17  31148 (3).jpg              121   62.909091        0.000832\n",
       "18  E2259 (1).jpg               38   64.868421        0.000270\n",
       "19  E2259 (2).jpg               57   69.122807        0.000431\n",
       "20  E2259 (3).jpg               44   68.659091        0.000330"
      ]
     },
     "execution_count": 14,
     "metadata": {},
     "output_type": "execute_result"
    }
   ],
   "source": [
    "data = pd.read_csv('Result/Result.csv')\n",
    "data"
   ]
  },
  {
   "cell_type": "code",
   "execution_count": null,
   "metadata": {},
   "outputs": [],
   "source": []
  }
 ],
 "metadata": {
  "kernelspec": {
   "display_name": "Python 3",
   "language": "python",
   "name": "python3"
  },
  "language_info": {
   "codemirror_mode": {
    "name": "ipython",
    "version": 3
   },
   "file_extension": ".py",
   "mimetype": "text/x-python",
   "name": "python",
   "nbconvert_exporter": "python",
   "pygments_lexer": "ipython3",
   "version": "3.7.3"
  }
 },
 "nbformat": 4,
 "nbformat_minor": 2
}
