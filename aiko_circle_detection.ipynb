{
 "cells": [
  {
   "cell_type": "code",
   "execution_count": 1,
   "metadata": {},
   "outputs": [],
   "source": [
    "import os\n",
    "import pandas as pd\n",
    "import cv2\n",
    "import numpy as np \n",
    "import matplotlib.pyplot as plt\n",
    "%matplotlib inline"
   ]
  },
  {
   "cell_type": "markdown",
   "metadata": {},
   "source": [
    "## Read image & Convert Image to Gray-Scale"
   ]
  },
  {
   "cell_type": "code",
   "execution_count": 2,
   "metadata": {},
   "outputs": [],
   "source": [
    "def readandconv_image(image_name):\n",
    "    img = cv2.imread('Asset/'+image_name, 1)\n",
    "    img_orig = img.copy()\n",
    "    img = cv2.cvtColor(img, cv2.COLOR_BGR2GRAY)\n",
    "    \n",
    "    return img, img_orig"
   ]
  },
  {
   "cell_type": "markdown",
   "metadata": {},
   "source": [
    "## Sharpening Image"
   ]
  },
  {
   "cell_type": "code",
   "execution_count": 3,
   "metadata": {},
   "outputs": [],
   "source": [
    "def image_sharpening(my_img):\n",
    "    kernel_sharpening = np.array([[-1,-1,-1], \n",
    "                                  [-1, 9,-1],\n",
    "                                  [-1,-1,-1]])\n",
    "    return cv2.filter2D(my_img, -1, kernel_sharpening)"
   ]
  },
  {
   "cell_type": "markdown",
   "metadata": {},
   "source": [
    "## Blur Image to Reduce Noise"
   ]
  },
  {
   "cell_type": "code",
   "execution_count": 4,
   "metadata": {},
   "outputs": [],
   "source": [
    "def median_blur(my_img):\n",
    "    for _ in range(5):\n",
    "        my_img = cv2.medianBlur(my_img, 21)\n",
    "    \n",
    "    return my_img"
   ]
  },
  {
   "cell_type": "code",
   "execution_count": 5,
   "metadata": {},
   "outputs": [],
   "source": [
    "def gaussian_blur(my_img):\n",
    "    for _ in range(5):\n",
    "        my_img = cv2.GaussianBlur(my_img, (21, 21), cv2.BORDER_DEFAULT)\n",
    "    \n",
    "    return my_img"
   ]
  },
  {
   "cell_type": "markdown",
   "metadata": {},
   "source": [
    "## Image Thresholding\n",
    "\n",
    "#### 1. Image Thresholding (Otsu's Binarization)"
   ]
  },
  {
   "cell_type": "code",
   "execution_count": 6,
   "metadata": {},
   "outputs": [],
   "source": [
    "def otsu_thresholding(my_img):\n",
    "    ret, th = cv2.threshold(my_img, 0, 255, cv2.THRESH_BINARY + cv2.THRESH_OTSU)\n",
    "    \n",
    "    return th"
   ]
  },
  {
   "cell_type": "markdown",
   "metadata": {},
   "source": [
    "#### 2. Image Thresholding (Adaptive Thresholding)"
   ]
  },
  {
   "cell_type": "code",
   "execution_count": 7,
   "metadata": {},
   "outputs": [],
   "source": [
    "def adaptive_thresholding(my_img):\n",
    "    th = cv2.adaptiveThreshold(my_img, 255, cv2.ADAPTIVE_THRESH_MEAN_C,\\\n",
    "                               cv2.THRESH_BINARY, 31, 20)\n",
    "    return th"
   ]
  },
  {
   "cell_type": "markdown",
   "metadata": {},
   "source": [
    "## Hough Circle Transform"
   ]
  },
  {
   "cell_type": "code",
   "execution_count": 8,
   "metadata": {},
   "outputs": [],
   "source": [
    "def hough_transform(my_img):\n",
    "    all_circle = cv2.HoughCircles(my_img, cv2.HOUGH_GRADIENT, 1, 100, \n",
    "                              param1=50,param2=30, \n",
    "                              minRadius=10, maxRadius=150)\n",
    "    return all_circle"
   ]
  },
  {
   "cell_type": "markdown",
   "metadata": {},
   "source": [
    "## Show Detected Circles"
   ]
  },
  {
   "cell_type": "code",
   "execution_count": 9,
   "metadata": {},
   "outputs": [],
   "source": [
    "def show_circle(my_img, all_circle):\n",
    "    all_circle_rounded = np.uint16(np.around(all_circle))\n",
    "    for i in all_circle_rounded[0,:]:\n",
    "        # draw the outer circle\n",
    "        cv2.circle(my_img,(i[0],i[1]),i[2],(0,255,0),15)\n",
    "        # draw the center of the circle\n",
    "        cv2.circle(my_img,(i[0],i[1]),2,(0,0,255),5)\n",
    "        \n",
    "    all_circle_rounded = all_circle_rounded[0].tolist()\n",
    "    detected_circle = len(all_circle_rounded)\n",
    "    \n",
    "    return my_img, detected_circle, all_circle_rounded"
   ]
  },
  {
   "cell_type": "markdown",
   "metadata": {},
   "source": [
    "##### Get Average Radius"
   ]
  },
  {
   "cell_type": "code",
   "execution_count": 10,
   "metadata": {},
   "outputs": [],
   "source": [
    "def circle_radius_avg(all_circle_rounded):\n",
    "    radius_avg = 0\n",
    "    for i in all_circle_rounded:\n",
    "        radius_avg += i[2]\n",
    "    \n",
    "    return radius_avg/len(all_circle_rounded)"
   ]
  },
  {
   "cell_type": "markdown",
   "metadata": {},
   "source": [
    "##### Get Circle Density"
   ]
  },
  {
   "cell_type": "code",
   "execution_count": 11,
   "metadata": {},
   "outputs": [],
   "source": [
    "def circle_dens1(detected_circle, radius_avg, M, N):\n",
    "    return (detected_circle * radius_avg) / (M * N)"
   ]
  },
  {
   "cell_type": "markdown",
   "metadata": {},
   "source": [
    "# Main Program"
   ]
  },
  {
   "cell_type": "code",
   "execution_count": 12,
   "metadata": {},
   "outputs": [],
   "source": [
    "def main():\n",
    "    # Directory listing\n",
    "    entries = os.listdir('Asset')\n",
    "    circles = []\n",
    "    circle_rad = []\n",
    "    circle_den = []\n",
    "\n",
    "    for my_img in entries:\n",
    "        # Read image from listed dir\n",
    "        img, img_orig = readandconv_image(my_img)\n",
    "        # Get image dimension\n",
    "        M, N = img.shape\n",
    "        # Image sharpening\n",
    "        img = image_sharpening(img)\n",
    "        # Image blurring uring using median blur\n",
    "        img = median_blur(img)\n",
    "        # Apply hough transform\n",
    "        all_circle = hough_transform(img)\n",
    "        img_orig, detected_circle, all_circle_rounded = show_circle(img_orig, all_circle)\n",
    "        \n",
    "        # save image\n",
    "        cv2.imwrite('Result/' + my_img, img_orig)\n",
    "        \n",
    "        # Save to list for cvs file\n",
    "        circles.append(detected_circle)\n",
    "\n",
    "        radius_avg = circle_radius_avg(all_circle_rounded)\n",
    "        circle_rad.append(radius_avg)\n",
    "\n",
    "        circle_den.append(circle_dens1(detected_circle, radius_avg, M, N))\n",
    "        \n",
    "    csv_dict = {\n",
    "        'Data Kayu' : entries,\n",
    "        'Detected Circle' : circles,\n",
    "        'Radius Avg' : circle_rad,\n",
    "        'Circle Density' : circle_den\n",
    "    }\n",
    "    df = pd.DataFrame(csv_dict)\n",
    "    df.to_excel('Result/Result2.xlsx', index = False)"
   ]
  },
  {
   "cell_type": "code",
   "execution_count": 13,
   "metadata": {},
   "outputs": [],
   "source": [
    "main()"
   ]
  }
 ],
 "metadata": {
  "kernelspec": {
   "display_name": "Python 3",
   "language": "python",
   "name": "python3"
  },
  "language_info": {
   "codemirror_mode": {
    "name": "ipython",
    "version": 3
   },
   "file_extension": ".py",
   "mimetype": "text/x-python",
   "name": "python",
   "nbconvert_exporter": "python",
   "pygments_lexer": "ipython3",
   "version": "3.7.3"
  }
 },
 "nbformat": 4,
 "nbformat_minor": 2
}
