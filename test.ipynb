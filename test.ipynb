{
 "cells": [
  {
   "cell_type": "code",
   "execution_count": 1,
   "metadata": {},
   "outputs": [],
   "source": [
    "%run ./aiko_circle_detection.ipynb"
   ]
  },
  {
   "cell_type": "code",
   "execution_count": 2,
   "metadata": {},
   "outputs": [],
   "source": [
    "my_excel = ht_main()"
   ]
  },
  {
   "cell_type": "code",
   "execution_count": 6,
   "metadata": {},
   "outputs": [
    {
     "data": {
      "text/html": [
       "<div>\n",
       "<style scoped>\n",
       "    .dataframe tbody tr th:only-of-type {\n",
       "        vertical-align: middle;\n",
       "    }\n",
       "\n",
       "    .dataframe tbody tr th {\n",
       "        vertical-align: top;\n",
       "    }\n",
       "\n",
       "    .dataframe thead th {\n",
       "        text-align: right;\n",
       "    }\n",
       "</style>\n",
       "<table border=\"1\" class=\"dataframe\">\n",
       "  <thead>\n",
       "    <tr style=\"text-align: right;\">\n",
       "      <th></th>\n",
       "      <th>Data Kayu</th>\n",
       "      <th>Detected Circle</th>\n",
       "      <th>Radius Avg</th>\n",
       "      <th>Circle Density</th>\n",
       "    </tr>\n",
       "  </thead>\n",
       "  <tbody>\n",
       "    <tr>\n",
       "      <th>0</th>\n",
       "      <td>12073 (1).jpg</td>\n",
       "      <td>41</td>\n",
       "      <td>64.804878</td>\n",
       "      <td>0.000291</td>\n",
       "    </tr>\n",
       "    <tr>\n",
       "      <th>1</th>\n",
       "      <td>12073 (2).jpg</td>\n",
       "      <td>50</td>\n",
       "      <td>68.860000</td>\n",
       "      <td>0.000377</td>\n",
       "    </tr>\n",
       "    <tr>\n",
       "      <th>2</th>\n",
       "      <td>12073 (3).jpg</td>\n",
       "      <td>48</td>\n",
       "      <td>64.416667</td>\n",
       "      <td>0.000338</td>\n",
       "    </tr>\n",
       "    <tr>\n",
       "      <th>3</th>\n",
       "      <td>14734 (1).jpg</td>\n",
       "      <td>139</td>\n",
       "      <td>42.748201</td>\n",
       "      <td>0.000650</td>\n",
       "    </tr>\n",
       "    <tr>\n",
       "      <th>4</th>\n",
       "      <td>14734 (2).jpg</td>\n",
       "      <td>150</td>\n",
       "      <td>43.946667</td>\n",
       "      <td>0.000721</td>\n",
       "    </tr>\n",
       "    <tr>\n",
       "      <th>5</th>\n",
       "      <td>14734 (3).jpg</td>\n",
       "      <td>145</td>\n",
       "      <td>43.744828</td>\n",
       "      <td>0.000694</td>\n",
       "    </tr>\n",
       "    <tr>\n",
       "      <th>6</th>\n",
       "      <td>19081 (1).jpg</td>\n",
       "      <td>104</td>\n",
       "      <td>65.682692</td>\n",
       "      <td>0.000747</td>\n",
       "    </tr>\n",
       "    <tr>\n",
       "      <th>7</th>\n",
       "      <td>19081 (2).jpg</td>\n",
       "      <td>94</td>\n",
       "      <td>66.659574</td>\n",
       "      <td>0.000685</td>\n",
       "    </tr>\n",
       "    <tr>\n",
       "      <th>8</th>\n",
       "      <td>19081 (3).jpg</td>\n",
       "      <td>71</td>\n",
       "      <td>60.183099</td>\n",
       "      <td>0.000467</td>\n",
       "    </tr>\n",
       "    <tr>\n",
       "      <th>9</th>\n",
       "      <td>23551 (1).jpg</td>\n",
       "      <td>46</td>\n",
       "      <td>57.347826</td>\n",
       "      <td>0.000288</td>\n",
       "    </tr>\n",
       "    <tr>\n",
       "      <th>10</th>\n",
       "      <td>23551 (2).jpg</td>\n",
       "      <td>33</td>\n",
       "      <td>59.878788</td>\n",
       "      <td>0.000216</td>\n",
       "    </tr>\n",
       "    <tr>\n",
       "      <th>11</th>\n",
       "      <td>23551 (3).jpg</td>\n",
       "      <td>34</td>\n",
       "      <td>64.823529</td>\n",
       "      <td>0.000241</td>\n",
       "    </tr>\n",
       "    <tr>\n",
       "      <th>12</th>\n",
       "      <td>3011 (1).jpg</td>\n",
       "      <td>42</td>\n",
       "      <td>63.690476</td>\n",
       "      <td>0.000293</td>\n",
       "    </tr>\n",
       "    <tr>\n",
       "      <th>13</th>\n",
       "      <td>3011 (2).jpg</td>\n",
       "      <td>47</td>\n",
       "      <td>62.148936</td>\n",
       "      <td>0.000319</td>\n",
       "    </tr>\n",
       "    <tr>\n",
       "      <th>14</th>\n",
       "      <td>3011 (3).jpg</td>\n",
       "      <td>39</td>\n",
       "      <td>64.153846</td>\n",
       "      <td>0.000274</td>\n",
       "    </tr>\n",
       "    <tr>\n",
       "      <th>15</th>\n",
       "      <td>31148 (1).jpg</td>\n",
       "      <td>113</td>\n",
       "      <td>66.504425</td>\n",
       "      <td>0.000822</td>\n",
       "    </tr>\n",
       "    <tr>\n",
       "      <th>16</th>\n",
       "      <td>31148 (2).jpg</td>\n",
       "      <td>119</td>\n",
       "      <td>67.386555</td>\n",
       "      <td>0.000877</td>\n",
       "    </tr>\n",
       "    <tr>\n",
       "      <th>17</th>\n",
       "      <td>31148 (3).jpg</td>\n",
       "      <td>113</td>\n",
       "      <td>63.778761</td>\n",
       "      <td>0.000788</td>\n",
       "    </tr>\n",
       "    <tr>\n",
       "      <th>18</th>\n",
       "      <td>E2259 (1).jpg</td>\n",
       "      <td>38</td>\n",
       "      <td>64.868421</td>\n",
       "      <td>0.000270</td>\n",
       "    </tr>\n",
       "    <tr>\n",
       "      <th>19</th>\n",
       "      <td>E2259 (2).jpg</td>\n",
       "      <td>55</td>\n",
       "      <td>68.690909</td>\n",
       "      <td>0.000413</td>\n",
       "    </tr>\n",
       "    <tr>\n",
       "      <th>20</th>\n",
       "      <td>E2259 (3).jpg</td>\n",
       "      <td>44</td>\n",
       "      <td>68.340909</td>\n",
       "      <td>0.000329</td>\n",
       "    </tr>\n",
       "  </tbody>\n",
       "</table>\n",
       "</div>"
      ],
      "text/plain": [
       "        Data Kayu  Detected Circle  Radius Avg  Circle Density\n",
       "0   12073 (1).jpg               41   64.804878        0.000291\n",
       "1   12073 (2).jpg               50   68.860000        0.000377\n",
       "2   12073 (3).jpg               48   64.416667        0.000338\n",
       "3   14734 (1).jpg              139   42.748201        0.000650\n",
       "4   14734 (2).jpg              150   43.946667        0.000721\n",
       "5   14734 (3).jpg              145   43.744828        0.000694\n",
       "6   19081 (1).jpg              104   65.682692        0.000747\n",
       "7   19081 (2).jpg               94   66.659574        0.000685\n",
       "8   19081 (3).jpg               71   60.183099        0.000467\n",
       "9   23551 (1).jpg               46   57.347826        0.000288\n",
       "10  23551 (2).jpg               33   59.878788        0.000216\n",
       "11  23551 (3).jpg               34   64.823529        0.000241\n",
       "12   3011 (1).jpg               42   63.690476        0.000293\n",
       "13   3011 (2).jpg               47   62.148936        0.000319\n",
       "14   3011 (3).jpg               39   64.153846        0.000274\n",
       "15  31148 (1).jpg              113   66.504425        0.000822\n",
       "16  31148 (2).jpg              119   67.386555        0.000877\n",
       "17  31148 (3).jpg              113   63.778761        0.000788\n",
       "18  E2259 (1).jpg               38   64.868421        0.000270\n",
       "19  E2259 (2).jpg               55   68.690909        0.000413\n",
       "20  E2259 (3).jpg               44   68.340909        0.000329"
      ]
     },
     "execution_count": 6,
     "metadata": {},
     "output_type": "execute_result"
    }
   ],
   "source": [
    "my_excel"
   ]
  },
  {
   "cell_type": "code",
   "execution_count": 11,
   "metadata": {},
   "outputs": [
    {
     "data": {
      "text/plain": [
       "0.0009128046702863076"
      ]
     },
     "execution_count": 11,
     "metadata": {},
     "output_type": "execute_result"
    }
   ],
   "source": [
    "((np.pi * my_excel.iloc[0, 2]) * 41) / (3024*3024)"
   ]
  },
  {
   "cell_type": "code",
   "execution_count": 17,
   "metadata": {},
   "outputs": [
    {
     "data": {
      "text/plain": [
       "8272867.47499648"
      ]
     },
     "execution_count": 17,
     "metadata": {},
     "output_type": "execute_result"
    }
   ],
   "source": [
    "(3024*3024) - ((np.pi * my_excel.iloc[5, 2]**2) * 145)"
   ]
  },
  {
   "cell_type": "code",
   "execution_count": 15,
   "metadata": {},
   "outputs": [
    {
     "data": {
      "text/plain": [
       "9144576"
      ]
     },
     "execution_count": 15,
     "metadata": {},
     "output_type": "execute_result"
    }
   ],
   "source": [
    "3024*3024"
   ]
  },
  {
   "cell_type": "code",
   "execution_count": 16,
   "metadata": {},
   "outputs": [
    {
     "data": {
      "text/plain": [
       "871708.5250035197"
      ]
     },
     "execution_count": 16,
     "metadata": {},
     "output_type": "execute_result"
    }
   ],
   "source": [
    "((np.pi * my_excel.iloc[5, 2]**2) * 145)"
   ]
  },
  {
   "cell_type": "code",
   "execution_count": 21,
   "metadata": {},
   "outputs": [
    {
     "data": {
      "text/plain": [
       "871708.5250035197"
      ]
     },
     "execution_count": 21,
     "metadata": {},
     "output_type": "execute_result"
    }
   ],
   "source": [
    "(np.pi*my_excel.iloc[5, 2]**2) * 145"
   ]
  },
  {
   "cell_type": "code",
   "execution_count": null,
   "metadata": {},
   "outputs": [],
   "source": []
  }
 ],
 "metadata": {
  "kernelspec": {
   "display_name": "Python 3",
   "language": "python",
   "name": "python3"
  },
  "language_info": {
   "codemirror_mode": {
    "name": "ipython",
    "version": 3
   },
   "file_extension": ".py",
   "mimetype": "text/x-python",
   "name": "python",
   "nbconvert_exporter": "python",
   "pygments_lexer": "ipython3",
   "version": "3.7.3"
  }
 },
 "nbformat": 4,
 "nbformat_minor": 2
}
